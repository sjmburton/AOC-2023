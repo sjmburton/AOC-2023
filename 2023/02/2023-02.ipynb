{
 "cells": [
  {
   "cell_type": "code",
   "execution_count": 53,
   "metadata": {},
   "outputs": [],
   "source": [
    "data = \"\"\"Game 1: 3 blue, 4 red; 1 red, 2 green, 6 blue; 2 green\n",
    "Game 2: 1 blue, 2 green; 3 green, 4 blue, 1 red; 1 green, 1 blue\n",
    "Game 3: 8 green, 6 blue, 20 red; 5 blue, 4 red, 13 green; 5 green, 1 red\n",
    "Game 4: 1 green, 3 red, 6 blue; 3 green, 6 red; 3 green, 15 blue, 14 red\n",
    "Game 5: 6 red, 1 blue, 3 green; 2 blue, 1 red, 2 green\"\"\"\n"
   ]
  },
  {
   "cell_type": "code",
   "execution_count": 65,
   "metadata": {},
   "outputs": [
    {
     "name": "stdout",
     "output_type": "stream",
     "text": [
      "[1, 2, 3, 4, 5]\n",
      "3 True\n",
      "4 True\n",
      "4 False\n",
      "[1, 2, 5]\n"
     ]
    }
   ],
   "source": [
    "games = data.split(\"\\n\")\n",
    "\n",
    "list_length = len(games)\n",
    "red_cube_limit = 12\n",
    "blue_cube_limit = 14\n",
    "green_cube_limit = 13\n",
    "\n",
    "\n",
    "game_list = []\n",
    "set_list = []\n",
    "false_list = []\n",
    "\n",
    "master_list = [*range(1,list_length+1)]\n",
    "print(master_list)\n",
    "\n",
    "# print(games)\n",
    "for game in games:\n",
    "    sets = game.split(\":\")\n",
    "\n",
    "    game_list.append(int(sets[0].replace(\"Game\",\"\").strip()))\n",
    "\n",
    "    subsets = sets[1].split(\";\")\n",
    "    for subset in subsets:\n",
    "        cubes = subset.split(\",\")\n",
    "        for cube in cubes:\n",
    "            if \"green\" in cube:\n",
    "                cube = cube.replace(\"green\",\"\")\n",
    "                cube = cube.strip()\n",
    "                isValid = green_cube_limit >= int(cube)\n",
    "\n",
    "            elif \"red\" in cube:\n",
    "                cube = cube.replace(\"red\",\"\")\n",
    "                cube = cube.strip()\n",
    "                isValid = red_cube_limit >= int(cube)\n",
    "\n",
    "            elif \"blue\" in cube:\n",
    "                cube = cube.replace(\"blue\",\"\")\n",
    "                cube = cube.strip()\n",
    "                isValid = blue_cube_limit >= int(cube)\n",
    "            if isValid == False:\n",
    "                x = int(sets[0].replace(\"Game\",\"\").strip())\n",
    "                false_list.append(x)\n",
    "        \n",
    "    set_list.append(subsets)\n",
    "\n",
    "# merged_list = list(zip(game_list,set_list))\n",
    "# print(merged_list[0][0])\n",
    "# for item in merged_list:\n",
    "#     print(item)\n",
    "\n",
    "for num in false_list:\n",
    "    if num in master_list:\n",
    "        print(num,True)\n",
    "        master_list.remove(num)\n",
    "    else:\n",
    "        print(num,False)\n",
    "\n",
    "print(master_list)\n",
    "\n"
   ]
  }
 ],
 "metadata": {
  "kernelspec": {
   "display_name": "Python 3",
   "language": "python",
   "name": "python3"
  },
  "language_info": {
   "codemirror_mode": {
    "name": "ipython",
    "version": 3
   },
   "file_extension": ".py",
   "mimetype": "text/x-python",
   "name": "python",
   "nbconvert_exporter": "python",
   "pygments_lexer": "ipython3",
   "version": "3.12.0"
  }
 },
 "nbformat": 4,
 "nbformat_minor": 2
}
